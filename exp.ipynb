{
 "cells": [
  {
   "cell_type": "code",
   "execution_count": 1,
   "metadata": {},
   "outputs": [],
   "source": [
    "from langchain_ollama import ChatOllama"
   ]
  },
  {
   "cell_type": "code",
   "execution_count": 6,
   "metadata": {},
   "outputs": [],
   "source": [
    "llm = ChatOllama(\n",
    "    model='gemma3:1b',\n",
    "    temperature=0.9\n",
    ")"
   ]
  },
  {
   "cell_type": "code",
   "execution_count": 3,
   "metadata": {},
   "outputs": [],
   "source": [
    "from langchain_core.messages import AIMessage"
   ]
  },
  {
   "cell_type": "markdown",
   "metadata": {},
   "source": [
    "## Invocation"
   ]
  },
  {
   "cell_type": "code",
   "execution_count": 9,
   "metadata": {},
   "outputs": [
    {
     "name": "stdout",
     "output_type": "stream",
     "text": [
      "I like to take photographs.  **Ich mag es, Fotos zu machen.** \n",
      "\n",
      "Or, more casually: **Ich fotografiere gern.** (I like to photograph.) \n",
      "\n",
      "Do you want me to translate it into another way?\n"
     ]
    }
   ],
   "source": [
    "messages = [\n",
    "    (\n",
    "        \"system\",\n",
    "        \"You are a helpful assistant that translates English to German. Translate the user sentence.\",\n",
    "    ),\n",
    "    (\"human\", \"I like to take photographs.\"),\n",
    "]\n",
    "ai_msg = llm.invoke(messages)\n",
    "print(ai_msg.content)"
   ]
  },
  {
   "cell_type": "code",
   "execution_count": 11,
   "metadata": {},
   "outputs": [],
   "source": [
    "import pandas as pd"
   ]
  },
  {
   "cell_type": "code",
   "execution_count": 12,
   "metadata": {},
   "outputs": [],
   "source": [
    "df = pd.read_csv('GDPR_10QA_dataset_filtered.csv')"
   ]
  },
  {
   "cell_type": "code",
   "execution_count": 13,
   "metadata": {},
   "outputs": [
    {
     "data": {
      "text/html": [
       "<div>\n",
       "<style scoped>\n",
       "    .dataframe tbody tr th:only-of-type {\n",
       "        vertical-align: middle;\n",
       "    }\n",
       "\n",
       "    .dataframe tbody tr th {\n",
       "        vertical-align: top;\n",
       "    }\n",
       "\n",
       "    .dataframe thead th {\n",
       "        text-align: right;\n",
       "    }\n",
       "</style>\n",
       "<table border=\"1\" class=\"dataframe\">\n",
       "  <thead>\n",
       "    <tr style=\"text-align: right;\">\n",
       "      <th></th>\n",
       "      <th>Content</th>\n",
       "      <th>Article Number</th>\n",
       "      <th>Article Name</th>\n",
       "      <th>Chapter Number</th>\n",
       "      <th>Chapter Name</th>\n",
       "      <th>Article Word Count</th>\n",
       "      <th>Question</th>\n",
       "      <th>Answer</th>\n",
       "      <th>Question Word Count</th>\n",
       "      <th>Answer Word Count</th>\n",
       "    </tr>\n",
       "  </thead>\n",
       "  <tbody>\n",
       "    <tr>\n",
       "      <th>0</th>\n",
       "      <td>\\nArticle 1\\nSubject-matter and objectives\\n\\n...</td>\n",
       "      <td>1</td>\n",
       "      <td>Subject-matter and objectives</td>\n",
       "      <td>1</td>\n",
       "      <td>General provisions</td>\n",
       "      <td>91</td>\n",
       "      <td>What is the purpose of GDPR?</td>\n",
       "      <td>The purpose of GDPR is to lay down rules relat...</td>\n",
       "      <td>6</td>\n",
       "      <td>34</td>\n",
       "    </tr>\n",
       "    <tr>\n",
       "      <th>1</th>\n",
       "      <td>\\nArticle 2\\nMaterial scope\\n\\n1. This Regulat...</td>\n",
       "      <td>2</td>\n",
       "      <td>Material scope</td>\n",
       "      <td>1</td>\n",
       "      <td>General provisions</td>\n",
       "      <td>232</td>\n",
       "      <td>What is the scope of GDPR?</td>\n",
       "      <td>GDPR applies to the processing of personal dat...</td>\n",
       "      <td>6</td>\n",
       "      <td>43</td>\n",
       "    </tr>\n",
       "    <tr>\n",
       "      <th>2</th>\n",
       "      <td>\\nArticle 3\\nTerritorial scope\\n\\n1. This Regu...</td>\n",
       "      <td>3</td>\n",
       "      <td>Territorial scope</td>\n",
       "      <td>1</td>\n",
       "      <td>General provisions</td>\n",
       "      <td>154</td>\n",
       "      <td>What is the territorial scope of GDPR?</td>\n",
       "      <td>GDPR applies to the processing of personal dat...</td>\n",
       "      <td>7</td>\n",
       "      <td>38</td>\n",
       "    </tr>\n",
       "    <tr>\n",
       "      <th>3</th>\n",
       "      <td>\\nArticle 4\\nDefinitions\\n\\nFor the purposes o...</td>\n",
       "      <td>4</td>\n",
       "      <td>Definitions</td>\n",
       "      <td>1</td>\n",
       "      <td>General provisions</td>\n",
       "      <td>935</td>\n",
       "      <td>What is the definition of personal data accord...</td>\n",
       "      <td>Personal data means any information relating t...</td>\n",
       "      <td>10</td>\n",
       "      <td>69</td>\n",
       "    </tr>\n",
       "    <tr>\n",
       "      <th>4</th>\n",
       "      <td>\\nArticle 4 (continued)\\nDefinitions\\n\\nFor th...</td>\n",
       "      <td>4</td>\n",
       "      <td>Definitions</td>\n",
       "      <td>1</td>\n",
       "      <td>General provisions</td>\n",
       "      <td>405</td>\n",
       "      <td>What is the definition of 'group of undertakin...</td>\n",
       "      <td>For the purposes of this Regulation, 'group of...</td>\n",
       "      <td>11</td>\n",
       "      <td>17</td>\n",
       "    </tr>\n",
       "  </tbody>\n",
       "</table>\n",
       "</div>"
      ],
      "text/plain": [
       "                                             Content  Article Number  \\\n",
       "0  \\nArticle 1\\nSubject-matter and objectives\\n\\n...               1   \n",
       "1  \\nArticle 2\\nMaterial scope\\n\\n1. This Regulat...               2   \n",
       "2  \\nArticle 3\\nTerritorial scope\\n\\n1. This Regu...               3   \n",
       "3  \\nArticle 4\\nDefinitions\\n\\nFor the purposes o...               4   \n",
       "4  \\nArticle 4 (continued)\\nDefinitions\\n\\nFor th...               4   \n",
       "\n",
       "                    Article Name  Chapter Number        Chapter Name  \\\n",
       "0  Subject-matter and objectives               1  General provisions   \n",
       "1                 Material scope               1  General provisions   \n",
       "2              Territorial scope               1  General provisions   \n",
       "3                    Definitions               1  General provisions   \n",
       "4                    Definitions               1  General provisions   \n",
       "\n",
       "   Article Word Count                                           Question  \\\n",
       "0                  91                       What is the purpose of GDPR?   \n",
       "1                 232                         What is the scope of GDPR?   \n",
       "2                 154             What is the territorial scope of GDPR?   \n",
       "3                 935  What is the definition of personal data accord...   \n",
       "4                 405  What is the definition of 'group of undertakin...   \n",
       "\n",
       "                                              Answer  Question Word Count  \\\n",
       "0  The purpose of GDPR is to lay down rules relat...                    6   \n",
       "1  GDPR applies to the processing of personal dat...                    6   \n",
       "2  GDPR applies to the processing of personal dat...                    7   \n",
       "3  Personal data means any information relating t...                   10   \n",
       "4  For the purposes of this Regulation, 'group of...                   11   \n",
       "\n",
       "   Answer Word Count  \n",
       "0                 34  \n",
       "1                 43  \n",
       "2                 38  \n",
       "3                 69  \n",
       "4                 17  "
      ]
     },
     "execution_count": 13,
     "metadata": {},
     "output_type": "execute_result"
    }
   ],
   "source": [
    "df.head()"
   ]
  },
  {
   "cell_type": "code",
   "execution_count": 15,
   "metadata": {},
   "outputs": [
    {
     "name": "stdout",
     "output_type": "stream",
     "text": [
      "\n",
      "Article 1\n",
      "Subject-matter and objectives\n",
      "\n",
      "1. This Regulation lays down rules relating to the protection of natural persons with regard to the processing of\n",
      "   personal data and rules relating to the free movement of personal data.\n",
      "2. This Regulation protects fundamental rights and freedoms of natural persons and in particular their right to the\n",
      "   protection of personal data.\n",
      "3. The free movement of personal data within the Union shall be neither restricted nor prohibited for reasons\n",
      "   connected with the protection of natural persons with regard to the processing of personal data.\n",
      "\n"
     ]
    }
   ],
   "source": [
    "print(df['Content'][0])"
   ]
  },
  {
   "cell_type": "code",
   "execution_count": 16,
   "metadata": {},
   "outputs": [],
   "source": [
    "from langchain_community.embeddings import HuggingFaceEmbeddings\n",
    "from langchain_community.vectorstores import Chroma\n",
    "from langchain.text_splitter import RecursiveCharacterTextSplitter\n",
    "from langchain_ollama import ChatOllama\n",
    "from langchain.chains import RetrievalQA\n",
    "from langchain.prompts import PromptTemplate"
   ]
  },
  {
   "cell_type": "code",
   "execution_count": 18,
   "metadata": {},
   "outputs": [
    {
     "name": "stderr",
     "output_type": "stream",
     "text": [
      "/Users/nayz/Desktop/RAG_ollama/venv/lib/python3.13/site-packages/tqdm/auto.py:21: TqdmWarning: IProgress not found. Please update jupyter and ipywidgets. See https://ipywidgets.readthedocs.io/en/stable/user_install.html\n",
      "  from .autonotebook import tqdm as notebook_tqdm\n"
     ]
    }
   ],
   "source": [
    "embeddings = HuggingFaceEmbeddings(\n",
    "    model_name=\"sentence-transformers/all-MiniLM-L6-v2\"\n",
    ")"
   ]
  },
  {
   "cell_type": "code",
   "execution_count": 19,
   "metadata": {},
   "outputs": [],
   "source": [
    "# Prepare the documents \n",
    "documents = []\n",
    "for _, row in df.iterrows():\n",
    "    # Combine relevant information\n",
    "    text = f\"\"\"\n",
    "    Article {row['Article Number']}: {row['Article Name']}\n",
    "    Chapter {row['Chapter Number']}: {row['Chapter Name']}\n",
    "    \n",
    "    Content:\n",
    "    {row['Content']}\n",
    "    \"\"\"\n",
    "    documents.append(text)"
   ]
  },
  {
   "cell_type": "code",
   "execution_count": 20,
   "metadata": {},
   "outputs": [],
   "source": [
    "text_splitter = RecursiveCharacterTextSplitter(\n",
    "    chunk_size=1000,\n",
    "    chunk_overlap=200\n",
    ")\n",
    "texts = text_splitter.create_documents(documents)"
   ]
  },
  {
   "cell_type": "code",
   "execution_count": 22,
   "metadata": {},
   "outputs": [],
   "source": [
    "# Create vector store\n",
    "vectorstore = Chroma.from_documents(\n",
    "    documents=texts,\n",
    "    embedding=embeddings\n",
    ")"
   ]
  },
  {
   "cell_type": "code",
   "execution_count": 23,
   "metadata": {},
   "outputs": [],
   "source": [
    "# Create a custom detailed prompt template\n",
    "prompt_template = \"\"\"\n",
    "You are a GDPR expert assistant. Use the following pieces of context to answer the question at the end.\n",
    "If you do not know the answer, just say that you don't know, don't try to make up an answer.\n",
    "\n",
    "Context: {context}\n",
    "\n",
    "Question: {question}\n",
    "\n",
    "Please provide a clear and concise answer based on the GDPR articles provided in the context\n",
    "\"\"\""
   ]
  },
  {
   "cell_type": "code",
   "execution_count": 24,
   "metadata": {},
   "outputs": [],
   "source": [
    "PROMPT = PromptTemplate(\n",
    "    template=prompt_template,\n",
    "    input_variable=[\"context\", \"question\"]\n",
    ")"
   ]
  },
  {
   "cell_type": "code",
   "execution_count": 30,
   "metadata": {},
   "outputs": [],
   "source": [
    "# Set up a RAG chain\n",
    "llm = ChatOllama(\n",
    "    model=\"gemma3:1b\",\n",
    "    temperature=0.4\n",
    ")\n",
    "\n",
    "qa_chain = RetrievalQA.from_chain_type(\n",
    "    llm=llm,\n",
    "    chain_type=\"stuff\",\n",
    "    retriever=vectorstore.as_retriever(search_kwargs={\"k\": 3}),\n",
    "    chain_type_kwargs={\"prompt\": PROMPT}\n",
    ")"
   ]
  },
  {
   "cell_type": "code",
   "execution_count": 31,
   "metadata": {},
   "outputs": [],
   "source": [
    "def ask_gdpr_question(question: str) -> str:\n",
    "    \"\"\"\n",
    "    Ask a question about GDPR and get an answer based on the provided context\n",
    "    \"\"\"\n",
    "    response = qa_chain.invoke(question)\n",
    "    return response"
   ]
  },
  {
   "cell_type": "code",
   "execution_count": 32,
   "metadata": {},
   "outputs": [
    {
     "data": {
      "text/plain": [
       "{'query': 'What is anonymity?',\n",
       " 'result': 'According to the provided context, anonymity refers to the processing of personal data in a manner that prevents it from being attributed to a specific data subject without additional information.\\n\\n'}"
      ]
     },
     "execution_count": 32,
     "metadata": {},
     "output_type": "execute_result"
    }
   ],
   "source": [
    "ask_gdpr_question(\"What is anonymity?\")"
   ]
  },
  {
   "cell_type": "code",
   "execution_count": null,
   "metadata": {},
   "outputs": [],
   "source": []
  }
 ],
 "metadata": {
  "kernelspec": {
   "display_name": "venv",
   "language": "python",
   "name": "python3"
  },
  "language_info": {
   "codemirror_mode": {
    "name": "ipython",
    "version": 3
   },
   "file_extension": ".py",
   "mimetype": "text/x-python",
   "name": "python",
   "nbconvert_exporter": "python",
   "pygments_lexer": "ipython3",
   "version": "3.13.2"
  }
 },
 "nbformat": 4,
 "nbformat_minor": 2
}
